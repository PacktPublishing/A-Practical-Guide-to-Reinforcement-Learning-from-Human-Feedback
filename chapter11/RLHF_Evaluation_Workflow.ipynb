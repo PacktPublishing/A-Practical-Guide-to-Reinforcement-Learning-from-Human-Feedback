{
 "cells": [
  {
   "cell_type": "markdown",
   "id": "e0576eb7",
   "metadata": {},
   "source": [
    "# RLHF Evaluation Workflow\n",
    "This notebook demonstrates an end-to-end evaluation workflow for models fine-tuned with RLHF, DPO, or other alignment techniques. It covers:\n",
    "\n",
    "1. Generating outputs for a set of prompts\n",
    "2. Running Preference Proxy Evaluation (PPE) with a reward model\n",
    "3. Performing evaluation using Hugging Face's `evaluate` library\n",
    "4. Optionally: scoring with a simulated LLM-as-a-Judge\n",
    "\n",
    "We'll use `transformers`, `trl`, and `datasets` libraries."
   ]
  },
  {
   "cell_type": "code",
   "execution_count": null,
   "id": "ebb89adf",
   "metadata": {},
   "outputs": [],
   "source": [
    "# Install required packages\n",
    "!pip install transformers datasets evaluate trl --quiet"
   ]
  },
  {
   "cell_type": "markdown",
   "id": "c4e23188",
   "metadata": {},
   "source": [
    "## Step 1: Load or Define Prompts"
   ]
  },
  {
   "cell_type": "code",
   "execution_count": null,
   "id": "196b7a88",
   "metadata": {},
   "outputs": [],
   "source": [
    "from datasets import Dataset\n",
    "\n",
    "prompts = [\n",
    "    {'prompt': 'Explain why the sky is blue.'},\n",
    "    {'prompt': 'Summarize the key differences between Python and Java.'},\n",
    "    {'prompt': 'What are the ethical considerations in AI alignment?'}\n",
    "]\n",
    "prompt_dataset = Dataset.from_list(prompts)\n",
    "prompt_dataset"
   ]
  },
  {
   "cell_type": "markdown",
   "id": "a14399c9",
   "metadata": {},
   "source": [
    "## Step 2: Generate Outputs from Two Models (e.g., Base vs Aligned)"
   ]
  },
  {
   "cell_type": "code",
   "execution_count": null,
   "id": "59b32c41",
   "metadata": {},
   "outputs": [],
   "source": [
    "from transformers import pipeline\n",
    "\n",
    "# Use two different pipelines as proxy for base and aligned\n",
    "base_model = pipeline('text-generation', model='gpt2')\n",
    "aligned_model = pipeline('text-generation', model='gpt2-medium')\n",
    "\n",
    "def generate_outputs(example):\n",
    "    example['base_output'] = base_model(example['prompt'], max_new_tokens=60)[0]['generated_text']\n",
    "    example['aligned_output'] = aligned_model(example['prompt'], max_new_tokens=60)[0]['generated_text']\n",
    "    return example\n",
    "\n",
    "generated_dataset = prompt_dataset.map(generate_outputs)\n",
    "generated_dataset"
   ]
  },
  {
   "cell_type": "markdown",
   "id": "b2362093",
   "metadata": {},
   "source": [
    "## Step 3: Preference Proxy Evaluation (Mock Reward Model)"
   ]
  },
  {
   "cell_type": "code",
   "execution_count": null,
   "id": "ae3f9977",
   "metadata": {},
   "outputs": [],
   "source": [
    "def mock_reward_model(text):\n",
    "    return len(text.split()) / 50.0  # normalized reward proxy\n",
    "\n",
    "def score_outputs(example):\n",
    "    example['reward_base'] = mock_reward_model(example['base_output'])\n",
    "    example['reward_aligned'] = mock_reward_model(example['aligned_output'])\n",
    "    return example\n",
    "\n",
    "scored_dataset = generated_dataset.map(score_outputs)\n",
    "scored_dataset"
   ]
  },
  {
   "cell_type": "markdown",
   "id": "ec501428",
   "metadata": {},
   "source": [
    "## Step 4: Compare Scores and Compute Win Rates"
   ]
  },
  {
   "cell_type": "code",
   "execution_count": null,
   "id": "2cc1b26a",
   "metadata": {},
   "outputs": [],
   "source": [
    "wins = sum([ex['reward_aligned'] > ex['reward_base'] for ex in scored_dataset])\n",
    "print(f\"Aligned model wins {wins} out of {len(scored_dataset)} prompts\")"
   ]
  },
  {
   "cell_type": "markdown",
   "id": "2b4c5a23",
   "metadata": {},
   "source": [
    "## Step 5: Evaluate with Hugging Face `evaluate` Library (e.g., BLEU, ROUGE)"
   ]
  },
  {
   "cell_type": "code",
   "execution_count": null,
   "id": "d0b2bca5",
   "metadata": {},
   "outputs": [],
   "source": [
    "import evaluate\n",
    "rouge = evaluate.load('rouge')\n",
    "\n",
    "results = rouge.compute(\n",
    "    predictions=[ex['aligned_output'] for ex in scored_dataset],\n",
    "    references=[ex['base_output'] for ex in scored_dataset]\n",
    ")\n",
    "results"
   ]
  }
 ],
 "metadata": {
  "kernelspec": {
   "display_name": "aiexp",
   "language": "python",
   "name": "python3"
  },
  "language_info": {
   "name": "python",
   "version": "3.8.18"
  }
 },
 "nbformat": 4,
 "nbformat_minor": 5
}
